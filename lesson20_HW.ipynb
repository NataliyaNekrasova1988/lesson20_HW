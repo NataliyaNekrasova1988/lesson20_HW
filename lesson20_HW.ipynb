{
 "cells": [
  {
   "cell_type": "markdown",
   "id": "2d1be23f-aa4e-4e72-84e2-d6385e995865",
   "metadata": {},
   "source": [
    " - Обучить AE собственной архитектуры на MNIST\n",
    " - Обучить VAE собственной архитектуры на MNIST\n",
    " - *Обучить VAE c переносом стиля на MNIST (на вход декодеру подавать hidden с таргетным значением, чтобы можно было нарисовать заданную цифру в заданном стиле)"
   ]
  },
  {
   "cell_type": "code",
   "execution_count": 1,
   "id": "60b4fd54-90dc-4e1d-a5bf-72fa3c17cb81",
   "metadata": {},
   "outputs": [],
   "source": [
    "import numpy\n",
    "import torch\n",
    "import torch.nn as nn\n",
    "import torchvision.models as models\n",
    "from torchvision import datasets, transforms\n",
    "from torch.utils.data import DataLoader\n",
    "import matplotlib.pyplot as plt"
   ]
  },
  {
   "cell_type": "code",
   "execution_count": null,
   "id": "e2f70c57-48a4-4300-9d5e-9bb4c29c8e60",
   "metadata": {},
   "outputs": [],
   "source": []
  },
  {
   "cell_type": "markdown",
   "id": "bd4c6c70-a099-457c-bb77-67845862587b",
   "metadata": {},
   "source": [
    "1. Обучить AE собственной архитектуры на MNIST"
   ]
  },
  {
   "cell_type": "markdown",
   "id": "8671478d-8fe6-426c-a880-c38894350e88",
   "metadata": {},
   "source": [
    "Гиперпараметры:"
   ]
  },
  {
   "cell_type": "code",
   "execution_count": 2,
   "id": "e9a515ff-d46e-41f1-817f-ac47dde2f503",
   "metadata": {},
   "outputs": [],
   "source": [
    "input_channels = 1      # один канал на входе (1 черно-белая картинка)\n",
    "hidden_channels = 32    # количество матриц с результатами свертки\n",
    "device_id = -1\n",
    "device = 'mps' if device_id == -1 else f'cuda:{device_id}'\n",
    "n_epochs = 20\n",
    "batch_size = 64"
   ]
  },
  {
   "cell_type": "markdown",
   "id": "50753bb0-49e4-4f61-8934-8ecccead134c",
   "metadata": {},
   "source": [
    "Архитектура модели:"
   ]
  },
  {
   "cell_type": "code",
   "execution_count": 3,
   "id": "0103168c-6339-4334-8d74-7a26f2819fef",
   "metadata": {},
   "outputs": [],
   "source": [
    "class ConvEncoder(nn.Module):\n",
    "  #28*28 -> hidden -> hidden_out\n",
    "  def __init__(self, input_ch, hidden_ch):\n",
    "    super().__init__()\n",
    "    #TODO try to use other layers\n",
    "    self.conv1 = nn.Conv2d(input_ch, hidden_ch, kernel_size=3, stride=1, \n",
    "                           padding=1) # 28x28\n",
    "    self.do1 = nn.Dropout(0.2)\n",
    "    \n",
    "    self.conv2 = nn.Conv2d(hidden_ch, hidden_ch, kernel_size=3, stride=1, \n",
    "                           padding=1) # 28x28\n",
    "    self.do2 = nn.Dropout(0.2)   \n",
    "    self.pool1 = nn.MaxPool2d(2, 2) # 14x14\n",
    "    self.conv3 = nn.Conv2d(hidden_ch, hidden_ch, kernel_size=3, stride=1, \n",
    "                           padding=1) # 14x14\n",
    "    self.do3 = nn.Dropout(0.2)\n",
    "    self.conv4 = nn.Conv2d(hidden_ch, hidden_ch, kernel_size=3, stride=1, \n",
    "                           padding=1) # 14x14\n",
    "    self.do4 = nn.Dropout(0.2)\n",
    "\n",
    "    self.pool2 = nn.MaxPool2d(2, 2) # 7x7\n",
    "    self.conv5 = nn.Conv2d(hidden_ch, 1, kernel_size=3, stride=1,   # out_ch = 1 - все фичи утрамбовываются в 1 матрицу 7x7\n",
    "                           padding=1) # 7x7\n",
    "    self.activ = nn.ReLU()\n",
    "\n",
    "  def forward(self, x):\n",
    "    x = self.pool1(self.do2(self.activ(self.conv2(self.do1(self.activ(self.conv1(x)))))))\n",
    "    x = self.pool2(self.do4(self.activ(self.conv4(self.do3(self.activ(self.conv3(x)))))))\n",
    "    x = self.conv5(x)\n",
    "\n",
    "    return x\n"
   ]
  },
  {
   "cell_type": "code",
   "execution_count": 4,
   "id": "3007dc99-d06f-4d58-a55d-4817e367a301",
   "metadata": {},
   "outputs": [],
   "source": [
    "class ConvDecoder(nn.Module):\n",
    "  #hidden_out-> hidden -> 28*28 \n",
    "  def __init__(self, input_ch, hidden_ch, ):\n",
    "    super().__init__()\n",
    "    #TODO try to use other layers\n",
    "    self.conv1 = nn.Conv2d(1, hidden_ch, kernel_size=3, stride=1, \n",
    "                           padding=1) # 7x7\n",
    "    self.do1 = nn.Dropout(0.2)\n",
    "\n",
    "    self.conv2 = nn.Conv2d(hidden_ch, hidden_ch, kernel_size=3, stride=1, \n",
    "                           padding=1) # 7x7\n",
    "    self.do2 = nn.Dropout(0.2)\n",
    "    self.upsample1 = nn.UpsamplingNearest2d(scale_factor=2) # 14x14       # обратная пулингу операция\n",
    "    self.conv3 = nn.Conv2d(hidden_ch, hidden_ch, kernel_size=3, stride=1, \n",
    "                           padding=1) # 14x14\n",
    "    self.do3 = nn.Dropout(0.2)\n",
    "    self.conv4 = nn.Conv2d(hidden_ch, hidden_ch, kernel_size=3, stride=1, \n",
    "                           padding=1) # 14x14\n",
    "    self.do4 = nn.Dropout(0.2)\n",
    "\n",
    "    self.upsample2 = nn.UpsamplingNearest2d(scale_factor=2) # 28x28\n",
    "    self.conv5 = nn.Conv2d(hidden_ch, input_ch, kernel_size=3, stride=1, \n",
    "                           padding=1) # 28x28\n",
    "    self.activ = nn.ReLU()\n",
    "  def forward(self, x):\n",
    "    x = self.upsample1(self.do2(self.activ(self.conv2(self.do1(self.activ(self.conv1(x)))))))\n",
    "    x = self.upsample2(self.do4(self.activ(self.conv4(self.do3(self.activ(self.conv3(x)))))))\n",
    "    x = self.conv5(x)\n",
    "\n",
    "\n",
    "    return x\n"
   ]
  },
  {
   "cell_type": "code",
   "execution_count": 5,
   "id": "309a8f12-00df-49bd-8643-7a4c7c0f7941",
   "metadata": {},
   "outputs": [],
   "source": [
    "class ConvAutoEncoder(nn.Module):\n",
    "  def __init__(self, input_ch, hidden_ch, ):\n",
    "    super().__init__()\n",
    "    self.encoder = ConvEncoder(input_ch, hidden_ch, )\n",
    "    self.decoder = ConvDecoder(input_ch, hidden_ch, )\n",
    "\n",
    "  def forward(self, x):\n",
    "    hidden = self.encoder(x)\n",
    "    x_ = self.decoder(hidden)\n",
    "\n",
    "    return x_"
   ]
  },
  {
   "cell_type": "code",
   "execution_count": null,
   "id": "1c688532-4aa3-4b25-b5f9-f179b5fe6fe4",
   "metadata": {},
   "outputs": [],
   "source": []
  },
  {
   "cell_type": "markdown",
   "id": "794fedbb-cdbd-4b6c-9834-a1f6d6564d58",
   "metadata": {},
   "source": [
    "Загрузчик данных:"
   ]
  },
  {
   "cell_type": "code",
   "execution_count": 6,
   "id": "021bc5ac-2824-43b1-b269-d34701e67c4d",
   "metadata": {},
   "outputs": [
    {
     "name": "stdout",
     "output_type": "stream",
     "text": [
      "Downloading http://yann.lecun.com/exdb/mnist/train-images-idx3-ubyte.gz\n",
      "Downloading http://yann.lecun.com/exdb/mnist/train-images-idx3-ubyte.gz to ./MNIST/raw/train-images-idx3-ubyte.gz\n"
     ]
    },
    {
     "name": "stderr",
     "output_type": "stream",
     "text": [
      "100%|████████████████████████████| 9912422/9912422 [00:03<00:00, 2605113.92it/s]\n"
     ]
    },
    {
     "name": "stdout",
     "output_type": "stream",
     "text": [
      "Extracting ./MNIST/raw/train-images-idx3-ubyte.gz to ./MNIST/raw\n",
      "\n",
      "Downloading http://yann.lecun.com/exdb/mnist/train-labels-idx1-ubyte.gz\n",
      "Downloading http://yann.lecun.com/exdb/mnist/train-labels-idx1-ubyte.gz to ./MNIST/raw/train-labels-idx1-ubyte.gz\n"
     ]
    },
    {
     "name": "stderr",
     "output_type": "stream",
     "text": [
      "100%|█████████████████████████████████| 28881/28881 [00:00<00:00, 612910.82it/s]\n"
     ]
    },
    {
     "name": "stdout",
     "output_type": "stream",
     "text": [
      "Extracting ./MNIST/raw/train-labels-idx1-ubyte.gz to ./MNIST/raw\n",
      "\n",
      "Downloading http://yann.lecun.com/exdb/mnist/t10k-images-idx3-ubyte.gz\n",
      "Downloading http://yann.lecun.com/exdb/mnist/t10k-images-idx3-ubyte.gz to ./MNIST/raw/t10k-images-idx3-ubyte.gz\n"
     ]
    },
    {
     "name": "stderr",
     "output_type": "stream",
     "text": [
      "100%|████████████████████████████| 1648877/1648877 [00:00<00:00, 2319921.14it/s]\n"
     ]
    },
    {
     "name": "stdout",
     "output_type": "stream",
     "text": [
      "Extracting ./MNIST/raw/t10k-images-idx3-ubyte.gz to ./MNIST/raw\n",
      "\n",
      "Downloading http://yann.lecun.com/exdb/mnist/t10k-labels-idx1-ubyte.gz\n",
      "Downloading http://yann.lecun.com/exdb/mnist/t10k-labels-idx1-ubyte.gz to ./MNIST/raw/t10k-labels-idx1-ubyte.gz\n"
     ]
    },
    {
     "name": "stderr",
     "output_type": "stream",
     "text": [
      "100%|██████████████████████████████████| 4542/4542 [00:00<00:00, 2303292.08it/s]"
     ]
    },
    {
     "name": "stdout",
     "output_type": "stream",
     "text": [
      "Extracting ./MNIST/raw/t10k-labels-idx1-ubyte.gz to ./MNIST/raw\n",
      "\n"
     ]
    },
    {
     "name": "stderr",
     "output_type": "stream",
     "text": [
      "\n"
     ]
    }
   ],
   "source": [
    "transform = transforms.Compose(\n",
    "    [transforms.ToTensor(),\n",
    "     transforms.Normalize((0.5), (0.5)),\n",
    "     ])\n",
    "\n",
    "# скачивание обучающего датасета\n",
    "dataset_train = datasets.MNIST('.', \n",
    "                               train=True,            \n",
    "                               download=True, \n",
    "                               transform=transform)\n",
    "trainloader = torch.utils.data.DataLoader(dataset_train, \n",
    "                                          batch_size=batch_size,\n",
    "                                          shuffle=True, \n",
    "                                          num_workers=2, \n",
    "                                          drop_last = True,)\n",
    "\n",
    "# скачивание тестового датасета\n",
    "dataset_test = datasets.MNIST('.', \n",
    "                              train=False,\n",
    "                              download=True, \n",
    "                              transform=transform)\n",
    "testloader = torch.utils.data.DataLoader(dataset_train, \n",
    "                                          batch_size=batch_size,\n",
    "                                          shuffle=True, \n",
    "                                          num_workers=2, \n",
    "                                          drop_last = True,)"
   ]
  },
  {
   "cell_type": "code",
   "execution_count": 7,
   "id": "874eafda-e78b-4ac4-be42-b54ff7cfff58",
   "metadata": {},
   "outputs": [
    {
     "data": {
      "image/png": "[encoded data removed]",
      "text/plain": [
       "<Figure size 640x480 with 1 Axes>"
      ]
     },
     "metadata": {},
     "output_type": "display_data"
    }
   ],
   "source": [
    "plt.imshow(dataset_test.data[555].detach().numpy())\n",
    "plt.show()"
   ]
  },
  {
   "cell_type": "code",
   "execution_count": null,
   "id": "d071bba5-fccf-42a6-ba72-cf6120ff4270",
   "metadata": {},
   "outputs": [],
   "source": []
  },
  {
   "cell_type": "markdown",
   "id": "3d9eb0dc-da01-4cd7-ab93-0a922b6092e6",
   "metadata": {},
   "source": [
    "Инициализация модели, задание оптимизатора и функции потерь:"
   ]
  },
  {
   "cell_type": "code",
   "execution_count": 8,
   "id": "37bdf03d-a73f-4b04-b903-4ca5dfd71143",
   "metadata": {},
   "outputs": [],
   "source": [
    "model = ConvAutoEncoder(input_channels, hidden_channels).to(device)\n",
    "optim = torch.optim.Adam(model.parameters())\n",
    "loss_func = nn.L1Loss()"
   ]
  },
  {
   "cell_type": "code",
   "execution_count": null,
   "id": "aa7c141d-4686-4bbf-91d5-044c30f00ee2",
   "metadata": {},
   "outputs": [],
   "source": []
  },
  {
   "cell_type": "markdown",
   "id": "06503065-49f8-40e6-b760-97babc2eef3f",
   "metadata": {},
   "source": [
    "Трейн луп"
   ]
  },
  {
   "cell_type": "code",
   "execution_count": 11,
   "id": "e12773a0-5b0b-42ee-a77b-2b6c8f21dadf",
   "metadata": {},
   "outputs": [
    {
     "name": "stdout",
     "output_type": "stream",
     "text": [
      "epoch: 0, step: 0, loss: 0.07095099240541458\n",
      "epoch: 0, step: 200, loss: 0.0727388858795166\n",
      "epoch: 0, step: 400, loss: 0.06807264685630798\n",
      "epoch: 0, step: 600, loss: 0.07606817781925201\n",
      "epoch: 0, step: 800, loss: 0.07518814504146576\n"
     ]
    },
    {
     "data": {
      "image/png": "[encoded data removed]",
      "text/plain": [
       "<Figure size 640x480 with 1 Axes>"
      ]
     },
     "metadata": {},
     "output_type": "display_data"
    },
    {
     "data": {
      "image/png": "[encoded data removed]",
      "text/plain": [
       "<Figure size 640x480 with 1 Axes>"
      ]
     },
     "metadata": {},
     "output_type": "display_data"
    },
    {
     "name": "stdout",
     "output_type": "stream",
     "text": [
      "epoch: 1, step: 0, loss: 0.0718611478805542\n",
      "epoch: 1, step: 200, loss: 0.06907997280359268\n",
      "epoch: 1, step: 400, loss: 0.06956653296947479\n",
      "epoch: 1, step: 600, loss: 0.06816116720438004\n",
      "epoch: 1, step: 800, loss: 0.07143139094114304\n",
      "epoch: 2, step: 0, loss: 0.07156521081924438\n",
      "epoch: 2, step: 200, loss: 0.07078635692596436\n",
      "epoch: 2, step: 400, loss: 0.06731007248163223\n",
      "epoch: 2, step: 600, loss: 0.07232973724603653\n",
      "epoch: 2, step: 800, loss: 0.07183395326137543\n",
      "epoch: 3, step: 0, loss: 0.07145538926124573\n",
      "epoch: 3, step: 200, loss: 0.07028786092996597\n",
      "epoch: 3, step: 400, loss: 0.07081346213817596\n",
      "epoch: 3, step: 600, loss: 0.06526082009077072\n",
      "epoch: 3, step: 800, loss: 0.0716952383518219\n",
      "epoch: 4, step: 0, loss: 0.07711537182331085\n",
      "epoch: 4, step: 200, loss: 0.07132154703140259\n",
      "epoch: 4, step: 400, loss: 0.0689968690276146\n",
      "epoch: 4, step: 600, loss: 0.07385618984699249\n",
      "epoch: 4, step: 800, loss: 0.07499333471059799\n",
      "epoch: 5, step: 0, loss: 0.072672538459301\n",
      "epoch: 5, step: 200, loss: 0.07064022123813629\n",
      "epoch: 5, step: 400, loss: 0.06426481902599335\n",
      "epoch: 5, step: 600, loss: 0.07186560332775116\n",
      "epoch: 5, step: 800, loss: 0.0657065138220787\n"
     ]
    },
    {
     "data": {
      "image/png": "[encoded data removed]",
      "text/plain": [
       "<Figure size 640x480 with 1 Axes>"
      ]
     },
     "metadata": {},
     "output_type": "display_data"
    },
    {
     "data": {
      "image/png": "[encoded data removed]",
      "text/plain": [
       "<Figure size 640x480 with 1 Axes>"
      ]
     },
     "metadata": {},
     "output_type": "display_data"
    },
    {
     "name": "stdout",
     "output_type": "stream",
     "text": [
      "epoch: 6, step: 0, loss: 0.06923235207796097\n",
      "epoch: 6, step: 200, loss: 0.0689472183585167\n",
      "epoch: 6, step: 400, loss: 0.07014745473861694\n",
      "epoch: 6, step: 600, loss: 0.06985439360141754\n",
      "epoch: 6, step: 800, loss: 0.07242037355899811\n",
      "epoch: 7, step: 0, loss: 0.06813430786132812\n",
      "epoch: 7, step: 200, loss: 0.06705698370933533\n",
      "epoch: 7, step: 400, loss: 0.06870494782924652\n",
      "epoch: 7, step: 600, loss: 0.07288698107004166\n",
      "epoch: 7, step: 800, loss: 0.06898067146539688\n",
      "epoch: 8, step: 0, loss: 0.06817801296710968\n",
      "epoch: 8, step: 200, loss: 0.06662621349096298\n",
      "epoch: 8, step: 400, loss: 0.06583791971206665\n",
      "epoch: 8, step: 600, loss: 0.06977485120296478\n",
      "epoch: 8, step: 800, loss: 0.07046101987361908\n",
      "epoch: 9, step: 0, loss: 0.07004731893539429\n",
      "epoch: 9, step: 200, loss: 0.07194369286298752\n",
      "epoch: 9, step: 400, loss: 0.07021991163492203\n",
      "epoch: 9, step: 600, loss: 0.06971230357885361\n",
      "epoch: 9, step: 800, loss: 0.07119538635015488\n",
      "epoch: 10, step: 0, loss: 0.06760982424020767\n",
      "epoch: 10, step: 200, loss: 0.06943830847740173\n",
      "epoch: 10, step: 400, loss: 0.06632569432258606\n",
      "epoch: 10, step: 600, loss: 0.07463116943836212\n",
      "epoch: 10, step: 800, loss: 0.06864649057388306\n"
     ]
    },
    {
     "data": {
      "image/png": "[encoded data removed]",
      "text/plain": [
       "<Figure size 640x480 with 1 Axes>"
      ]
     },
     "metadata": {},
     "output_type": "display_data"
    },
    {
     "data": {
      "image/png": "[encoded data removed]",
      "text/plain": [
       "<Figure size 640x480 with 1 Axes>"
      ]
     },
     "metadata": {},
     "output_type": "display_data"
    },
    {
     "name": "stdout",
     "output_type": "stream",
     "text": [
      "epoch: 11, step: 0, loss: 0.07145736366510391\n",
      "epoch: 11, step: 200, loss: 0.06865877658128738\n",
      "epoch: 11, step: 400, loss: 0.07116741687059402\n",
      "epoch: 11, step: 600, loss: 0.0728040561079979\n",
      "epoch: 11, step: 800, loss: 0.06863605231046677\n",
      "epoch: 12, step: 0, loss: 0.07178044319152832\n",
      "epoch: 12, step: 200, loss: 0.07178590446710587\n",
      "epoch: 12, step: 400, loss: 0.07077956199645996\n",
      "epoch: 12, step: 600, loss: 0.07020752876996994\n",
      "epoch: 12, step: 800, loss: 0.06622274965047836\n",
      "epoch: 13, step: 0, loss: 0.07249351590871811\n",
      "epoch: 13, step: 200, loss: 0.06659155339002609\n",
      "epoch: 13, step: 400, loss: 0.06822580099105835\n",
      "epoch: 13, step: 600, loss: 0.06701971590518951\n",
      "epoch: 13, step: 800, loss: 0.06973142176866531\n",
      "epoch: 14, step: 0, loss: 0.06685005128383636\n",
      "epoch: 14, step: 200, loss: 0.07010072469711304\n",
      "epoch: 14, step: 400, loss: 0.06545163691043854\n",
      "epoch: 14, step: 600, loss: 0.07412026077508926\n",
      "epoch: 14, step: 800, loss: 0.07176516950130463\n",
      "epoch: 15, step: 0, loss: 0.07311589270830154\n",
      "epoch: 15, step: 200, loss: 0.06714341044425964\n",
      "epoch: 15, step: 400, loss: 0.0692574679851532\n",
      "epoch: 15, step: 600, loss: 0.06747601181268692\n",
      "epoch: 15, step: 800, loss: 0.0650886818766594\n"
     ]
    },
    {
     "data": {
      "image/png": "[encoded data removed]",
      "text/plain": [
       "<Figure size 640x480 with 1 Axes>"
      ]
     },
     "metadata": {},
     "output_type": "display_data"
    },
    {
     "data": {
      "image/png": "[encoded data removed]",
      "text/plain": [
       "<Figure size 640x480 with 1 Axes>"
      ]
     },
     "metadata": {},
     "output_type": "display_data"
    },
    {
     "name": "stdout",
     "output_type": "stream",
     "text": [
      "epoch: 16, step: 0, loss: 0.06571214646100998\n",
      "epoch: 16, step: 200, loss: 0.07206416130065918\n",
      "epoch: 16, step: 400, loss: 0.06897914409637451\n",
      "epoch: 16, step: 600, loss: 0.0665949136018753\n",
      "epoch: 16, step: 800, loss: 0.07120949774980545\n",
      "epoch: 17, step: 0, loss: 0.06926554441452026\n",
      "epoch: 17, step: 200, loss: 0.07141890376806259\n",
      "epoch: 17, step: 400, loss: 0.06963131576776505\n",
      "epoch: 17, step: 600, loss: 0.06622543931007385\n",
      "epoch: 17, step: 800, loss: 0.07052259147167206\n",
      "epoch: 18, step: 0, loss: 0.06689157336950302\n",
      "epoch: 18, step: 200, loss: 0.06742488592863083\n",
      "epoch: 18, step: 400, loss: 0.06593427062034607\n",
      "epoch: 18, step: 600, loss: 0.07087358832359314\n",
      "epoch: 18, step: 800, loss: 0.06569286435842514\n",
      "epoch: 19, step: 0, loss: 0.06734364479780197\n",
      "epoch: 19, step: 200, loss: 0.07378767430782318\n",
      "epoch: 19, step: 400, loss: 0.06760399788618088\n",
      "epoch: 19, step: 600, loss: 0.06660649925470352\n",
      "epoch: 19, step: 800, loss: 0.0708065778017044\n"
     ]
    },
    {
     "data": {
      "image/png": "[encoded data removed]",
      "text/plain": [
       "<Figure size 640x480 with 1 Axes>"
      ]
     },
     "metadata": {},
     "output_type": "display_data"
    },
    {
     "data": {
      "image/png": "[encoded data removed]",
      "text/plain": [
       "<Figure size 640x480 with 1 Axes>"
      ]
     },
     "metadata": {},
     "output_type": "display_data"
    }
   ],
   "source": [
    "for epoch in range(n_epochs):\n",
    "    model.train()\n",
    "    for i, batch in enumerate(trainloader):\n",
    "        inputs, labels = batch\n",
    "        optim.zero_grad()\n",
    "\n",
    "        predict = model(inputs.to(device))\n",
    "        loss = loss_func(inputs.to(device), predict)\n",
    "        loss.backward()\n",
    "        optim.step()\n",
    "        if i % 200 == 0:\n",
    "            print(f'epoch: {epoch}, step: {i}, loss: {loss.item()}')\n",
    "    if epoch % 5 == 0 or epoch == n_epochs - 1:\n",
    "        model.eval()\n",
    "        item = dataset_test[555][0].unsqueeze(0).to(device).float()\n",
    "        plt.imshow(dataset_test[555][0].squeeze().detach().numpy())\n",
    "        plt.show()\n",
    "        plt.imshow(model(item).squeeze().squeeze().cpu().detach().numpy())\n",
    "        plt.show()"
   ]
  },
  {
   "cell_type": "code",
   "execution_count": null,
   "id": "1a8eb0d6-c82b-4391-bb78-4d78dff3dcc7",
   "metadata": {},
   "outputs": [],
   "source": []
  },
  {
   "cell_type": "code",
   "execution_count": null,
   "id": "1a7d13df-0c08-4371-b6ce-c93c9a7635ff",
   "metadata": {},
   "outputs": [],
   "source": []
  },
  {
   "cell_type": "markdown",
   "id": "f38e1c43-3f3c-4bf5-bdfa-dc60cc967cf0",
   "metadata": {},
   "source": [
    "2. Обучить VAE собственной архитектуры на MNIST"
   ]
  },
  {
   "cell_type": "code",
   "execution_count": null,
   "id": "6617c117-769b-4d84-baee-3f2a269eb271",
   "metadata": {},
   "outputs": [],
   "source": [
    "Архитектура модели"
   ]
  },
  {
   "cell_type": "code",
   "execution_count": null,
   "id": "2c0dba9c-f2c0-4215-8114-83d88edf7443",
   "metadata": {},
   "outputs": [],
   "source": []
  },
  {
   "cell_type": "code",
   "execution_count": null,
   "id": "92fed778-700a-44d8-83bd-a218fa23c86d",
   "metadata": {},
   "outputs": [],
   "source": []
  },
  {
   "cell_type": "code",
   "execution_count": null,
   "id": "f20c29b0-6d8d-43ef-8591-58899804f29f",
   "metadata": {},
   "outputs": [],
   "source": []
  },
  {
   "cell_type": "code",
   "execution_count": null,
   "id": "731177c1-0324-4e19-a002-bb5db5dea0fa",
   "metadata": {},
   "outputs": [],
   "source": []
  },
  {
   "cell_type": "code",
   "execution_count": null,
   "id": "0841c8a3-cd06-423d-ac3d-a8675408397f",
   "metadata": {},
   "outputs": [],
   "source": []
  }
 ],
 "metadata": {
  "kernelspec": {
   "display_name": "Python 3 (ipykernel)",
   "language": "python",
   "name": "python3"
  },
  "language_info": {
   "codemirror_mode": {
    "name": "ipython",
    "version": 3
   },
   "file_extension": ".py",
   "mimetype": "text/x-python",
   "name": "python",
   "nbconvert_exporter": "python",
   "pygments_lexer": "ipython3",
   "version": "3.11.7"
  }
 },
 "nbformat": 4,
 "nbformat_minor": 5
}
